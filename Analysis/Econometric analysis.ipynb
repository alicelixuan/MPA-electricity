{
 "cells": [
  {
   "cell_type": "code",
   "execution_count": null,
   "metadata": {},
   "outputs": [],
   "source": [
    "# before running, please install python, pandas and statsmodels first\n",
    "import zipfile\n",
    "import pickle\n",
    "import pandas as pd\n",
    "import numpy as np\n",
    "import statsmodels.api as sm\n",
    "import statsmodels.formula.api as smf"
   ]
  },
  {
   "cell_type": "code",
   "execution_count": null,
   "metadata": {},
   "outputs": [],
   "source": [
    "#unzip and load data frame\n",
    "with zipfile.ZipFile('../Data/df_preproccessed.zip', 'r') as zipf:\n",
    "    name = zipf.namelist()[0] \n",
    "    with zipf.open(name) as file:\n",
    "        df = pickle.load(file)\n",
    "\n",
    "# define logit model function (exogenous regime-switching logit)\n",
    "def regime_switching_logit(df = pd.DataFrame):\n",
    "    results = []\n",
    "\n",
    "    # separate logit models for suspected withholding and suspected push-in\n",
    "    df_mod1 = df.loc[(df['competitive_dispatch_status_discretized']== 1)]\n",
    "    df_mod2 = df.loc[(df['competitive_dispatch_status_discretized']== 0)]\n",
    "\n",
    "    X1 = df_mod1[['net_profit_withhold_marginal']]\n",
    "    X1 = sm.add_constant(X1)\n",
    "\n",
    "    y1 = (df_mod1['deviation_discretized'] == -1 ).astype(int) # values -1 becomes 1, otherwise 0\n",
    "\n",
    "    model1 = sm.Logit(y1, X1)\n",
    "    result1 = model1.fit(maxiter=1000, method='nm')\n",
    "\n",
    "    X2 = df_mod2[['net_profit_pushin_marginal']]\n",
    "    X2 = sm.add_constant(X2)\n",
    "\n",
    "    y2 = (df_mod2['deviation_discretized'] == 1 ).astype(int) # keep values 1, otherwise 0\n",
    "\n",
    "    model2 = sm.Logit(y2, X2)\n",
    "    result2 = model2.fit(maxiter=1000, method='nm')\n",
    "\n",
    "    results.append(result1)\n",
    "    results.append(result2)\n",
    "\n",
    "    return results"
   ]
  },
  {
   "cell_type": "markdown",
   "metadata": {},
   "source": [
    "## Run model: main specification, market-level"
   ]
  },
  {
   "cell_type": "code",
   "execution_count": null,
   "metadata": {},
   "outputs": [],
   "source": [
    "# run function and show results\n",
    "results = regime_switching_logit(df)\n",
    "\n",
    "for i, result in enumerate(results):\n",
    "    print(f\"Model {i+1} Summary:\\n\")\n",
    "    print(result.summary())"
   ]
  },
  {
   "cell_type": "markdown",
   "metadata": {},
   "source": [
    "## Run model: slice by company"
   ]
  },
  {
   "cell_type": "code",
   "execution_count": null,
   "metadata": {},
   "outputs": [],
   "source": [
    "#rank companies and run model in order\n",
    "comp_size = pd.DataFrame(df.groupby('company')['net_exposure'].agg(['min', 'max'])) #determine company size based on max. net exposure\n",
    "comp_size['abs'] = comp_size[['min', 'max']].abs().max(axis=1)\n",
    "comp_size = comp_size.sort_values('abs', ascending = False)\n",
    "comp_size['rank'] = range(1, len(comp_size)+1) #rank companies by size\n",
    "comp_size = comp_size.reset_index()\n",
    "rank_df = pd.DataFrame({'company': comp_size['company'], 'rank': comp_size['rank']})\n",
    "\n",
    "#run function for each company in order of size\n",
    "results = []\n",
    "for comp in rank_df['company']:\n",
    "    df_comp = df.loc[df['company'] == comp]\n",
    "    print(f'{comp}')\n",
    "    result = regime_switching_logit(df_comp)\n",
    "    print(result[0].summary(), result[1].summary())\n",
    "    results.append(result)"
   ]
  }
 ],
 "metadata": {
  "kernelspec": {
   "display_name": ".venv",
   "language": "python",
   "name": "python3"
  },
  "language_info": {
   "codemirror_mode": {
    "name": "ipython",
    "version": 3
   },
   "file_extension": ".py",
   "mimetype": "text/x-python",
   "name": "python",
   "nbconvert_exporter": "python",
   "pygments_lexer": "ipython3",
   "version": "3.12.3"
  }
 },
 "nbformat": 4,
 "nbformat_minor": 2
}
